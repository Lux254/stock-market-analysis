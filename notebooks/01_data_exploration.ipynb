{
 "cells": [
  {
   "cell_type": "code",
   "execution_count": 2,
   "id": "5143c7e0-a035-45f5-84fd-eb49891c3d2f",
   "metadata": {},
   "outputs": [],
   "source": [
    "import pandas as pd\n",
    "import numpy as np"
   ]
  },
  {
   "cell_type": "code",
   "execution_count": 4,
   "id": "1821d17b-f405-40e8-9a6a-d75dadf9593a",
   "metadata": {},
   "outputs": [
    {
     "data": {
      "text/html": [
       "<div>\n",
       "<style scoped>\n",
       "    .dataframe tbody tr th:only-of-type {\n",
       "        vertical-align: middle;\n",
       "    }\n",
       "\n",
       "    .dataframe tbody tr th {\n",
       "        vertical-align: top;\n",
       "    }\n",
       "\n",
       "    .dataframe thead th {\n",
       "        text-align: right;\n",
       "    }\n",
       "</style>\n",
       "<table border=\"1\" class=\"dataframe\">\n",
       "  <thead>\n",
       "    <tr style=\"text-align: right;\">\n",
       "      <th></th>\n",
       "      <th>Date</th>\n",
       "      <th>Open</th>\n",
       "      <th>High</th>\n",
       "      <th>Low</th>\n",
       "      <th>Close*</th>\n",
       "      <th>Adj Close**</th>\n",
       "      <th>Volume</th>\n",
       "    </tr>\n",
       "  </thead>\n",
       "  <tbody>\n",
       "    <tr>\n",
       "      <th>0</th>\n",
       "      <td>Apr 28, 2023</td>\n",
       "      <td>33797.43</td>\n",
       "      <td>34104.56</td>\n",
       "      <td>33728.40</td>\n",
       "      <td>34098.16</td>\n",
       "      <td>34098.16</td>\n",
       "      <td>354310000</td>\n",
       "    </tr>\n",
       "    <tr>\n",
       "      <th>1</th>\n",
       "      <td>Apr 27, 2023</td>\n",
       "      <td>33381.66</td>\n",
       "      <td>33859.75</td>\n",
       "      <td>33374.65</td>\n",
       "      <td>33826.16</td>\n",
       "      <td>33826.16</td>\n",
       "      <td>343240000</td>\n",
       "    </tr>\n",
       "    <tr>\n",
       "      <th>2</th>\n",
       "      <td>Apr 26, 2023</td>\n",
       "      <td>33596.34</td>\n",
       "      <td>33645.83</td>\n",
       "      <td>33235.85</td>\n",
       "      <td>33301.87</td>\n",
       "      <td>33301.87</td>\n",
       "      <td>321170000</td>\n",
       "    </tr>\n",
       "    <tr>\n",
       "      <th>3</th>\n",
       "      <td>Apr 25, 2023</td>\n",
       "      <td>33828.34</td>\n",
       "      <td>33875.49</td>\n",
       "      <td>33525.39</td>\n",
       "      <td>33530.83</td>\n",
       "      <td>33530.83</td>\n",
       "      <td>297880000</td>\n",
       "    </tr>\n",
       "    <tr>\n",
       "      <th>4</th>\n",
       "      <td>Apr 24, 2023</td>\n",
       "      <td>33805.04</td>\n",
       "      <td>33891.15</td>\n",
       "      <td>33726.09</td>\n",
       "      <td>33875.40</td>\n",
       "      <td>33875.40</td>\n",
       "      <td>252020000</td>\n",
       "    </tr>\n",
       "  </tbody>\n",
       "</table>\n",
       "</div>"
      ],
      "text/plain": [
       "           Date      Open      High       Low    Close*  Adj Close**  \\\n",
       "0  Apr 28, 2023  33797.43  34104.56  33728.40  34098.16     34098.16   \n",
       "1  Apr 27, 2023  33381.66  33859.75  33374.65  33826.16     33826.16   \n",
       "2  Apr 26, 2023  33596.34  33645.83  33235.85  33301.87     33301.87   \n",
       "3  Apr 25, 2023  33828.34  33875.49  33525.39  33530.83     33530.83   \n",
       "4  Apr 24, 2023  33805.04  33891.15  33726.09  33875.40     33875.40   \n",
       "\n",
       "      Volume  \n",
       "0  354310000  \n",
       "1  343240000  \n",
       "2  321170000  \n",
       "3  297880000  \n",
       "4  252020000  "
      ]
     },
     "execution_count": 4,
     "metadata": {},
     "output_type": "execute_result"
    }
   ],
   "source": [
    "#reading the dataset into the notebook\n",
    "yahoo_data = pd.read_excel(r'C:\\Users\\USER\\Downloads\\yahoo_data.xlsx')\n",
    "yahoo_data.head()"
   ]
  },
  {
   "cell_type": "code",
   "execution_count": null,
   "id": "2f9b3f81-d056-45c0-b7ee-acc0b5dbc39d",
   "metadata": {},
   "outputs": [],
   "source": [
    "#summary of the dataset\n",
    "yahoo_data.info()"
   ]
  },
  {
   "cell_type": "code",
   "execution_count": null,
   "id": "63f1b3ca-2465-4c2b-a693-4ab8abb0f4e0",
   "metadata": {},
   "outputs": [],
   "source": [
    "#statistical summary of the numerical columns of the dataset\n",
    "yahoo_data.describe()"
   ]
  },
  {
   "cell_type": "code",
   "execution_count": null,
   "id": "a4e5bbab-8121-4cd8-96b8-93c886b95347",
   "metadata": {},
   "outputs": [],
   "source": [
    "#checking for the total number of null values in each column\n",
    "yahoo_data.isnull().sum()"
   ]
  }
 ],
 "metadata": {
  "kernelspec": {
   "display_name": "Python 3 (ipykernel)",
   "language": "python",
   "name": "python3"
  },
  "language_info": {
   "codemirror_mode": {
    "name": "ipython",
    "version": 3
   },
   "file_extension": ".py",
   "mimetype": "text/x-python",
   "name": "python",
   "nbconvert_exporter": "python",
   "pygments_lexer": "ipython3",
   "version": "3.12.4"
  }
 },
 "nbformat": 4,
 "nbformat_minor": 5
}
