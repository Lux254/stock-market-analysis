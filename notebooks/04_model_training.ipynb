{
 "cells": [
  {
   "cell_type": "code",
   "execution_count": 13,
   "id": "d643ba92-91a4-4bd9-8d3b-9f1a72621b7c",
   "metadata": {},
   "outputs": [
    {
     "name": "stdout",
     "output_type": "stream",
     "text": [
      "Requirement already satisfied: tensorflow in c:\\users\\user\\onedrive\\dokumenter\\new folder\\lib\\site-packages (2.18.0)\n",
      "Requirement already satisfied: tensorflow-intel==2.18.0 in c:\\users\\user\\onedrive\\dokumenter\\new folder\\lib\\site-packages (from tensorflow) (2.18.0)\n",
      "Requirement already satisfied: absl-py>=1.0.0 in c:\\users\\user\\onedrive\\dokumenter\\new folder\\lib\\site-packages (from tensorflow-intel==2.18.0->tensorflow) (2.1.0)\n",
      "Requirement already satisfied: astunparse>=1.6.0 in c:\\users\\user\\onedrive\\dokumenter\\new folder\\lib\\site-packages (from tensorflow-intel==2.18.0->tensorflow) (1.6.3)\n",
      "Requirement already satisfied: flatbuffers>=24.3.25 in c:\\users\\user\\onedrive\\dokumenter\\new folder\\lib\\site-packages (from tensorflow-intel==2.18.0->tensorflow) (24.3.25)\n",
      "Requirement already satisfied: gast!=0.5.0,!=0.5.1,!=0.5.2,>=0.2.1 in c:\\users\\user\\onedrive\\dokumenter\\new folder\\lib\\site-packages (from tensorflow-intel==2.18.0->tensorflow) (0.6.0)\n",
      "Requirement already satisfied: google-pasta>=0.1.1 in c:\\users\\user\\onedrive\\dokumenter\\new folder\\lib\\site-packages (from tensorflow-intel==2.18.0->tensorflow) (0.2.0)\n",
      "Requirement already satisfied: libclang>=13.0.0 in c:\\users\\user\\onedrive\\dokumenter\\new folder\\lib\\site-packages (from tensorflow-intel==2.18.0->tensorflow) (18.1.1)\n",
      "Requirement already satisfied: opt-einsum>=2.3.2 in c:\\users\\user\\onedrive\\dokumenter\\new folder\\lib\\site-packages (from tensorflow-intel==2.18.0->tensorflow) (3.4.0)\n",
      "Requirement already satisfied: packaging in c:\\users\\user\\onedrive\\dokumenter\\new folder\\lib\\site-packages (from tensorflow-intel==2.18.0->tensorflow) (23.2)\n",
      "Requirement already satisfied: protobuf!=4.21.0,!=4.21.1,!=4.21.2,!=4.21.3,!=4.21.4,!=4.21.5,<6.0.0dev,>=3.20.3 in c:\\users\\user\\onedrive\\dokumenter\\new folder\\lib\\site-packages (from tensorflow-intel==2.18.0->tensorflow) (3.20.3)\n",
      "Requirement already satisfied: requests<3,>=2.21.0 in c:\\users\\user\\onedrive\\dokumenter\\new folder\\lib\\site-packages (from tensorflow-intel==2.18.0->tensorflow) (2.32.2)\n",
      "Requirement already satisfied: setuptools in c:\\users\\user\\onedrive\\dokumenter\\new folder\\lib\\site-packages (from tensorflow-intel==2.18.0->tensorflow) (69.5.1)\n",
      "Requirement already satisfied: six>=1.12.0 in c:\\users\\user\\onedrive\\dokumenter\\new folder\\lib\\site-packages (from tensorflow-intel==2.18.0->tensorflow) (1.16.0)\n",
      "Requirement already satisfied: termcolor>=1.1.0 in c:\\users\\user\\onedrive\\dokumenter\\new folder\\lib\\site-packages (from tensorflow-intel==2.18.0->tensorflow) (2.5.0)\n",
      "Requirement already satisfied: typing-extensions>=3.6.6 in c:\\users\\user\\onedrive\\dokumenter\\new folder\\lib\\site-packages (from tensorflow-intel==2.18.0->tensorflow) (4.11.0)\n",
      "Requirement already satisfied: wrapt>=1.11.0 in c:\\users\\user\\onedrive\\dokumenter\\new folder\\lib\\site-packages (from tensorflow-intel==2.18.0->tensorflow) (1.14.1)\n",
      "Requirement already satisfied: grpcio<2.0,>=1.24.3 in c:\\users\\user\\onedrive\\dokumenter\\new folder\\lib\\site-packages (from tensorflow-intel==2.18.0->tensorflow) (1.67.1)\n",
      "Requirement already satisfied: tensorboard<2.19,>=2.18 in c:\\users\\user\\onedrive\\dokumenter\\new folder\\lib\\site-packages (from tensorflow-intel==2.18.0->tensorflow) (2.18.0)\n",
      "Requirement already satisfied: keras>=3.5.0 in c:\\users\\user\\onedrive\\dokumenter\\new folder\\lib\\site-packages (from tensorflow-intel==2.18.0->tensorflow) (3.6.0)\n",
      "Requirement already satisfied: numpy<2.1.0,>=1.26.0 in c:\\users\\user\\onedrive\\dokumenter\\new folder\\lib\\site-packages (from tensorflow-intel==2.18.0->tensorflow) (1.26.4)\n",
      "Requirement already satisfied: h5py>=3.11.0 in c:\\users\\user\\onedrive\\dokumenter\\new folder\\lib\\site-packages (from tensorflow-intel==2.18.0->tensorflow) (3.11.0)\n",
      "Requirement already satisfied: ml-dtypes<0.5.0,>=0.4.0 in c:\\users\\user\\onedrive\\dokumenter\\new folder\\lib\\site-packages (from tensorflow-intel==2.18.0->tensorflow) (0.4.1)\n",
      "Requirement already satisfied: wheel<1.0,>=0.23.0 in c:\\users\\user\\onedrive\\dokumenter\\new folder\\lib\\site-packages (from astunparse>=1.6.0->tensorflow-intel==2.18.0->tensorflow) (0.43.0)\n",
      "Requirement already satisfied: rich in c:\\users\\user\\onedrive\\dokumenter\\new folder\\lib\\site-packages (from keras>=3.5.0->tensorflow-intel==2.18.0->tensorflow) (13.3.5)\n",
      "Requirement already satisfied: namex in c:\\users\\user\\onedrive\\dokumenter\\new folder\\lib\\site-packages (from keras>=3.5.0->tensorflow-intel==2.18.0->tensorflow) (0.0.8)\n",
      "Requirement already satisfied: optree in c:\\users\\user\\onedrive\\dokumenter\\new folder\\lib\\site-packages (from keras>=3.5.0->tensorflow-intel==2.18.0->tensorflow) (0.13.0)\n",
      "Requirement already satisfied: charset-normalizer<4,>=2 in c:\\users\\user\\onedrive\\dokumenter\\new folder\\lib\\site-packages (from requests<3,>=2.21.0->tensorflow-intel==2.18.0->tensorflow) (2.0.4)\n",
      "Requirement already satisfied: idna<4,>=2.5 in c:\\users\\user\\onedrive\\dokumenter\\new folder\\lib\\site-packages (from requests<3,>=2.21.0->tensorflow-intel==2.18.0->tensorflow) (3.7)\n",
      "Requirement already satisfied: urllib3<3,>=1.21.1 in c:\\users\\user\\onedrive\\dokumenter\\new folder\\lib\\site-packages (from requests<3,>=2.21.0->tensorflow-intel==2.18.0->tensorflow) (2.2.2)\n",
      "Requirement already satisfied: certifi>=2017.4.17 in c:\\users\\user\\onedrive\\dokumenter\\new folder\\lib\\site-packages (from requests<3,>=2.21.0->tensorflow-intel==2.18.0->tensorflow) (2024.7.4)\n",
      "Requirement already satisfied: markdown>=2.6.8 in c:\\users\\user\\onedrive\\dokumenter\\new folder\\lib\\site-packages (from tensorboard<2.19,>=2.18->tensorflow-intel==2.18.0->tensorflow) (3.4.1)\n",
      "Requirement already satisfied: tensorboard-data-server<0.8.0,>=0.7.0 in c:\\users\\user\\onedrive\\dokumenter\\new folder\\lib\\site-packages (from tensorboard<2.19,>=2.18->tensorflow-intel==2.18.0->tensorflow) (0.7.2)\n",
      "Requirement already satisfied: werkzeug>=1.0.1 in c:\\users\\user\\onedrive\\dokumenter\\new folder\\lib\\site-packages (from tensorboard<2.19,>=2.18->tensorflow-intel==2.18.0->tensorflow) (3.0.3)\n",
      "Requirement already satisfied: MarkupSafe>=2.1.1 in c:\\users\\user\\onedrive\\dokumenter\\new folder\\lib\\site-packages (from werkzeug>=1.0.1->tensorboard<2.19,>=2.18->tensorflow-intel==2.18.0->tensorflow) (2.1.3)\n",
      "Requirement already satisfied: markdown-it-py<3.0.0,>=2.2.0 in c:\\users\\user\\onedrive\\dokumenter\\new folder\\lib\\site-packages (from rich->keras>=3.5.0->tensorflow-intel==2.18.0->tensorflow) (2.2.0)\n",
      "Requirement already satisfied: pygments<3.0.0,>=2.13.0 in c:\\users\\user\\onedrive\\dokumenter\\new folder\\lib\\site-packages (from rich->keras>=3.5.0->tensorflow-intel==2.18.0->tensorflow) (2.15.1)\n",
      "Requirement already satisfied: mdurl~=0.1 in c:\\users\\user\\onedrive\\dokumenter\\new folder\\lib\\site-packages (from markdown-it-py<3.0.0,>=2.2.0->rich->keras>=3.5.0->tensorflow-intel==2.18.0->tensorflow) (0.1.0)\n",
      "Note: you may need to restart the kernel to use updated packages.\n"
     ]
    }
   ],
   "source": [
    "pip install tensorflow"
   ]
  },
  {
   "cell_type": "code",
   "execution_count": null,
   "id": "e3cc5431-4f23-4d36-aea1-84fbe64fe00d",
   "metadata": {},
   "outputs": [],
   "source": [
    "from sklearn.preprocessing import MinMaxScaler\n",
    "from tensorflow.keras.models import Sequential\n",
    "from tensorflow.keras.layers import LSTM, Dense, Dropout\n",
    "import matplotlib.pyplot as plt\n",
    "\n",
    "# Step 1: Split the data into training and test sets\n",
    "train_size = int(len(clean_data) * 0.8)\n",
    "train_data, test_data = clean_data[:train_size], clean_data[train_size:]\n",
    "\n",
    "# Step 2: Scaling the Data (features and target)\n",
    "scaler = MinMaxScaler(feature_range=(0, 1))  # To scale features\n",
    "target_scaler = MinMaxScaler(feature_range=(0, 1))  # To scale target (Close*)\n",
    "\n",
    "# Scale the features (Close*, Volume, EMA_14, RSI_14, ATR_14)\n",
    "scaled_train = scaler.fit_transform(train_data[['Close*', 'Volume', 'EMA_10']])\n",
    "scaled_test = scaler.transform(test_data[['Close*', 'Volume', 'EMA_10']])\n",
    "\n",
    "# Scale the target (Close* price) separately\n",
    "target_train = target_scaler.fit_transform(train_data[['Close*']])\n",
    "target_test = target_scaler.transform(test_data[['Close*']])\n",
    "\n",
    "# Step 3: Creating Sequences (timesteps)\n",
    "def create_sequences(data, target, timesteps=10):\n",
    "    X, y = [], []\n",
    "    for i in range(len(data) - timesteps):\n",
    "        X.append(data[i:i+timesteps])  # Select the past 'timesteps' rows of features\n",
    "        y.append(target[i+timesteps])  # Select the corresponding target value\n",
    "    return np.array(X), np.array(y)\n",
    "\n",
    "timesteps = 10  # You can adjust this as needed\n",
    "X_train, y_train = create_sequences(scaled_train, target_train, timesteps)\n",
    "X_test, y_test = create_sequences(scaled_test, target_test, timesteps)\n",
    "\n",
    "# Step 4: Build the LSTM Model (Simplified)\n",
    "model = Sequential([\n",
    "    LSTM(units=64, return_sequences=False, input_shape=(X_train.shape[1], X_train.shape[2])),\n",
    "    Dropout(0.3),\n",
    "    Dense(units=32, activation='relu'),\n",
    "    Dense(units=1)  # Output layer for the target variable (Close price)\n",
    "])\n",
    "\n",
    "# Compile the model using RMSprop optimizer\n",
    "model.compile(optimizer='rmsprop', loss='mean_squared_error')\n",
    "\n",
    "# Step 5: Train the Model\n",
    "history = model.fit(X_train, y_train, epochs=50, batch_size=32, validation_data=(X_test, y_test), verbose=1)\n",
    "\n",
    "# Step 6: Make Predictions and Inverse Scaling\n",
    "# Predict on test data\n",
    "predicted_scaled = model.predict(X_test)\n",
    "\n",
    "# Inverse scale the predictions and the true test values\n",
    "predicted = target_scaler.inverse_transform(predicted_scaled)\n",
    "y_test_true = target_scaler.inverse_transform(y_test)\n",
    "\n",
    "# Check the first few predicted vs actual values\n",
    "print(\"Predicted:\", predicted[:5].flatten())\n",
    "print(\"Actual:\", y_test_true[:5].flatten())"
   ]
  },
  {
   "cell_type": "code",
   "execution_count": 27,
   "id": "a148e660-249f-4f67-abc7-c8e988d78d98",
   "metadata": {},
   "outputs": [
    {
     "name": "stdout",
     "output_type": "stream",
     "text": [
      "Mean Absolute Error: 247.53\n",
      "Root Mean Squared Error: 339.80\n",
      "R-squared: 0.84\n"
     ]
    }
   ],
   "source": [
    "# Calculate Metrics (MAE, RMSE, R²)\n",
    "from sklearn.metrics import mean_absolute_error, mean_squared_error, r2_score\n",
    "mae = mean_absolute_error(y_test_true, predicted)\n",
    "rmse = np.sqrt(mean_squared_error(y_test_true, predicted))\n",
    "r2 = r2_score(y_test_true, predicted)\n",
    "\n",
    "print(f\"Mean Absolute Error: {mae:.2f}\")\n",
    "print(f\"Root Mean Squared Error: {rmse:.2f}\")\n",
    "print(f\"R-squared: {r2:.2f}\")"
   ]
  },
  {
   "cell_type": "code",
   "execution_count": null,
   "id": "a3450a39-fca3-4556-8667-da5a7117a7f5",
   "metadata": {},
   "outputs": [],
   "source": []
  }
 ],
 "metadata": {
  "kernelspec": {
   "display_name": "Python 3 (ipykernel)",
   "language": "python",
   "name": "python3"
  },
  "language_info": {
   "codemirror_mode": {
    "name": "ipython",
    "version": 3
   },
   "file_extension": ".py",
   "mimetype": "text/x-python",
   "name": "python",
   "nbconvert_exporter": "python",
   "pygments_lexer": "ipython3",
   "version": "3.12.4"
  }
 },
 "nbformat": 4,
 "nbformat_minor": 5
}
